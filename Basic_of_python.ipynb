{
  "nbformat": 4,
  "nbformat_minor": 0,
  "metadata": {
    "colab": {
      "provenance": [],
      "collapsed_sections": []
    },
    "kernelspec": {
      "name": "python3",
      "display_name": "Python 3"
    },
    "language_info": {
      "name": "python"
    }
  },
  "cells": [
    {
      "cell_type": "code",
      "execution_count": null,
      "metadata": {
        "id": "DolnoXYSUATE",
        "colab": {
          "base_uri": "https://localhost:8080/"
        },
        "outputId": "02d4f56e-bb95-43f1-d747-97985fa19c8f"
      },
      "outputs": [
        {
          "output_type": "stream",
          "name": "stdout",
          "text": [
            "20\n"
          ]
        }
      ],
      "source": [
        "var=20\n",
        "print(var)"
      ]
    },
    {
      "cell_type": "markdown",
      "source": [
        "####variable\n"
      ],
      "metadata": {
        "id": "qDYnhAE70FCH"
      }
    },
    {
      "cell_type": "code",
      "source": [
        "var1=10\n",
        "var2=20\n",
        "var3=30\n",
        "print(var1,var2)"
      ],
      "metadata": {
        "colab": {
          "base_uri": "https://localhost:8080/"
        },
        "id": "1LGZWhy50H2T",
        "outputId": "6ea8e8b3-aa18-40a8-b0aa-32ad8201622b"
      },
      "execution_count": null,
      "outputs": [
        {
          "output_type": "stream",
          "name": "stdout",
          "text": [
            "10 20\n"
          ]
        }
      ]
    },
    {
      "cell_type": "code",
      "source": [
        "print(var3,var2)"
      ],
      "metadata": {
        "colab": {
          "base_uri": "https://localhost:8080/"
        },
        "id": "ZATZaQOP0TpF",
        "outputId": "43887056-5718-4ae9-e10f-4b0330e7efa5"
      },
      "execution_count": null,
      "outputs": [
        {
          "output_type": "stream",
          "name": "stdout",
          "text": [
            "30 20\n"
          ]
        }
      ]
    },
    {
      "cell_type": "markdown",
      "source": [
        "####operator\n",
        "add,sub,multi,div,modulus,exponent,floor division"
      ],
      "metadata": {
        "id": "HSsxatBN0gRG"
      }
    },
    {
      "cell_type": "code",
      "source": [
        "num1=10\n",
        "num2=20\n",
        "print(num1+num2)"
      ],
      "metadata": {
        "colab": {
          "base_uri": "https://localhost:8080/"
        },
        "id": "fa2LC_H10l2c",
        "outputId": "a1f10c65-7029-4095-866d-906b53910b2d"
      },
      "execution_count": null,
      "outputs": [
        {
          "output_type": "stream",
          "name": "stdout",
          "text": [
            "30\n"
          ]
        }
      ]
    },
    {
      "cell_type": "code",
      "source": [
        "print(num1-num2)"
      ],
      "metadata": {
        "colab": {
          "base_uri": "https://localhost:8080/"
        },
        "id": "2GNhiMl71QRm",
        "outputId": "94153393-6c2c-42da-84be-0f0f896db20a"
      },
      "execution_count": null,
      "outputs": [
        {
          "output_type": "stream",
          "name": "stdout",
          "text": [
            "-10\n"
          ]
        }
      ]
    },
    {
      "cell_type": "code",
      "source": [
        "print(num2-num1)"
      ],
      "metadata": {
        "colab": {
          "base_uri": "https://localhost:8080/"
        },
        "id": "BVu1KmDI1bJ4",
        "outputId": "7af9100d-61d7-4ad0-e117-3517f9b6f0e9"
      },
      "execution_count": null,
      "outputs": [
        {
          "output_type": "stream",
          "name": "stdout",
          "text": [
            "10\n"
          ]
        }
      ]
    },
    {
      "cell_type": "markdown",
      "source": [],
      "metadata": {
        "id": "2IwcT8NIzaGp"
      }
    },
    {
      "cell_type": "code",
      "source": [
        "print(num1*num2)"
      ],
      "metadata": {
        "colab": {
          "base_uri": "https://localhost:8080/"
        },
        "id": "SSLYnIPM1g2b",
        "outputId": "ec6e68e5-7dba-4432-c795-816a2c09f48a"
      },
      "execution_count": null,
      "outputs": [
        {
          "output_type": "stream",
          "name": "stdout",
          "text": [
            "200\n"
          ]
        }
      ]
    },
    {
      "cell_type": "code",
      "source": [
        "print(num2/num1)"
      ],
      "metadata": {
        "colab": {
          "base_uri": "https://localhost:8080/"
        },
        "id": "Cci9VA6J1lju",
        "outputId": "2cfa9b4e-0d72-4f39-9a1d-100a4d0d5e27"
      },
      "execution_count": null,
      "outputs": [
        {
          "output_type": "stream",
          "name": "stdout",
          "text": [
            "2.0\n"
          ]
        }
      ]
    },
    {
      "cell_type": "code",
      "source": [
        "print(num1//num2)"
      ],
      "metadata": {
        "colab": {
          "base_uri": "https://localhost:8080/"
        },
        "id": "oQEswgxG1tze",
        "outputId": "f38fdcc2-9fdd-4bd5-e9a2-06dff9e3b3c7"
      },
      "execution_count": null,
      "outputs": [
        {
          "output_type": "stream",
          "name": "stdout",
          "text": [
            "0\n"
          ]
        }
      ]
    },
    {
      "cell_type": "code",
      "source": [
        "print(num1**num2)"
      ],
      "metadata": {
        "colab": {
          "base_uri": "https://localhost:8080/"
        },
        "id": "hEmOgITF1zbl",
        "outputId": "eabf9f5b-be1f-4ed8-f58f-298a25a575cd"
      },
      "execution_count": null,
      "outputs": [
        {
          "output_type": "stream",
          "name": "stdout",
          "text": [
            "100000000000000000000\n"
          ]
        }
      ]
    },
    {
      "cell_type": "markdown",
      "source": [
        "###Name convention\n",
        "camel case,\n",
        "pascal case,\n",
        "snake case"
      ],
      "metadata": {
        "id": "KDT-YtnS2If1"
      }
    },
    {
      "cell_type": "code",
      "source": [
        "strSample=10\n",
        "StrSample=20\n",
        "bike_engine_strength=30\n",
        "print(strSample)"
      ],
      "metadata": {
        "colab": {
          "base_uri": "https://localhost:8080/"
        },
        "id": "0f-9mZcS3VvO",
        "outputId": "320862b4-310d-49f7-c6a2-1560c68dbfe3"
      },
      "execution_count": null,
      "outputs": [
        {
          "output_type": "stream",
          "name": "stdout",
          "text": [
            "10\n"
          ]
        }
      ]
    },
    {
      "cell_type": "code",
      "source": [
        "print(bike_engine_strength)"
      ],
      "metadata": {
        "colab": {
          "base_uri": "https://localhost:8080/"
        },
        "id": "tibRE8aB4j9U",
        "outputId": "50fc0e14-5e2d-40f8-e1c6-979d25c1de7f"
      },
      "execution_count": null,
      "outputs": [
        {
          "output_type": "stream",
          "name": "stdout",
          "text": [
            "30\n"
          ]
        }
      ]
    },
    {
      "cell_type": "code",
      "source": [
        "print(StrSample)"
      ],
      "metadata": {
        "colab": {
          "base_uri": "https://localhost:8080/"
        },
        "id": "FOcC26M94vyf",
        "outputId": "d3596295-9f55-4dc5-9375-fba4f42e8e27"
      },
      "execution_count": null,
      "outputs": [
        {
          "output_type": "stream",
          "name": "stdout",
          "text": [
            "20\n"
          ]
        }
      ]
    },
    {
      "cell_type": "markdown",
      "source": [
        "###Data type\n",
        "Number, string ,List , tuple ,sets ,dictionary "
      ],
      "metadata": {
        "id": "DGoo01h342vl"
      }
    },
    {
      "cell_type": "markdown",
      "source": [
        "Number- int , float , complex"
      ],
      "metadata": {
        "id": "s4nlUo3v6-QT"
      }
    },
    {
      "cell_type": "code",
      "source": [
        "A=10.20\n",
        "a=int(A)"
      ],
      "metadata": {
        "id": "JYYLLEtN462v"
      },
      "execution_count": null,
      "outputs": []
    },
    {
      "cell_type": "code",
      "source": [
        "print(a)"
      ],
      "metadata": {
        "colab": {
          "base_uri": "https://localhost:8080/"
        },
        "id": "kioafdcu5qYP",
        "outputId": "4736d9d3-56e9-40d5-9d13-0594cbffd35d"
      },
      "execution_count": null,
      "outputs": [
        {
          "output_type": "stream",
          "name": "stdout",
          "text": [
            "10\n"
          ]
        }
      ]
    },
    {
      "cell_type": "code",
      "source": [
        "B=2.30\n",
        "b=float(B)\n",
        "print(b)"
      ],
      "metadata": {
        "colab": {
          "base_uri": "https://localhost:8080/"
        },
        "id": "nQWVC67R59sm",
        "outputId": "f816f089-b5c1-45ac-d982-6fc38bd75a92"
      },
      "execution_count": null,
      "outputs": [
        {
          "output_type": "stream",
          "name": "stdout",
          "text": [
            "2.3\n"
          ]
        }
      ]
    },
    {
      "cell_type": "code",
      "source": [
        "B=2.30\n",
        "b=complex(B)\n",
        "print(b)"
      ],
      "metadata": {
        "colab": {
          "base_uri": "https://localhost:8080/"
        },
        "id": "whFH_jpF6Vee",
        "outputId": "b46d098f-5e80-4836-91b8-99adb325b468"
      },
      "execution_count": null,
      "outputs": [
        {
          "output_type": "stream",
          "name": "stdout",
          "text": [
            "(2.3+0j)\n"
          ]
        }
      ]
    },
    {
      "cell_type": "markdown",
      "source": [
        "###String"
      ],
      "metadata": {
        "id": "y6bVUJAk9WVq"
      }
    },
    {
      "cell_type": "code",
      "source": [
        "str1=\"test\"\n",
        "str2='test'\n",
        "str3='''test\n",
        "test2test\n",
        "test4'''\n",
        "str4=\"\"\"test\n",
        "test4\n",
        "test5\n",
        "test6\"\"\""
      ],
      "metadata": {
        "id": "ZB7jmeeq9bip"
      },
      "execution_count": null,
      "outputs": []
    },
    {
      "cell_type": "code",
      "source": [
        "str1"
      ],
      "metadata": {
        "colab": {
          "base_uri": "https://localhost:8080/",
          "height": 36
        },
        "id": "SZvlsorUBId1",
        "outputId": "f5d5eb84-92f5-46fc-b65a-be043bcefc62"
      },
      "execution_count": null,
      "outputs": [
        {
          "output_type": "execute_result",
          "data": {
            "text/plain": [
              "'test'"
            ],
            "application/vnd.google.colaboratory.intrinsic+json": {
              "type": "string"
            }
          },
          "metadata": {},
          "execution_count": 4
        }
      ]
    },
    {
      "cell_type": "code",
      "source": [
        "str2"
      ],
      "metadata": {
        "colab": {
          "base_uri": "https://localhost:8080/",
          "height": 36
        },
        "id": "Fm5-MNsPBl2R",
        "outputId": "f611f91c-63e5-4a75-a66e-351c09086835"
      },
      "execution_count": null,
      "outputs": [
        {
          "output_type": "execute_result",
          "data": {
            "text/plain": [
              "'test'"
            ],
            "application/vnd.google.colaboratory.intrinsic+json": {
              "type": "string"
            }
          },
          "metadata": {},
          "execution_count": 5
        }
      ]
    },
    {
      "cell_type": "code",
      "source": [
        "str3"
      ],
      "metadata": {
        "colab": {
          "base_uri": "https://localhost:8080/",
          "height": 36
        },
        "id": "TBzJjCWEBpcH",
        "outputId": "6225f7e5-2384-4063-ee22-79e406a113fe"
      },
      "execution_count": null,
      "outputs": [
        {
          "output_type": "execute_result",
          "data": {
            "text/plain": [
              "'test\\ntest2test\\ntest4'"
            ],
            "application/vnd.google.colaboratory.intrinsic+json": {
              "type": "string"
            }
          },
          "metadata": {},
          "execution_count": 6
        }
      ]
    },
    {
      "cell_type": "code",
      "source": [
        "str4"
      ],
      "metadata": {
        "colab": {
          "base_uri": "https://localhost:8080/",
          "height": 36
        },
        "id": "uVJDbeXTBv9B",
        "outputId": "96c26d37-0476-4f0b-d319-68c6cdcd92e7"
      },
      "execution_count": null,
      "outputs": [
        {
          "output_type": "execute_result",
          "data": {
            "text/plain": [
              "'test\\ntest4\\ntest5\\ntest6'"
            ],
            "application/vnd.google.colaboratory.intrinsic+json": {
              "type": "string"
            }
          },
          "metadata": {},
          "execution_count": 7
        }
      ]
    },
    {
      "cell_type": "markdown",
      "source": [
        "String &integer"
      ],
      "metadata": {
        "id": "15hy2CfzCPYM"
      }
    },
    {
      "cell_type": "code",
      "source": [
        "list=['grocery1',10,20,'grocery2',3,4,'grocery3',40]\n",
        "print(list)"
      ],
      "metadata": {
        "colab": {
          "base_uri": "https://localhost:8080/"
        },
        "id": "Ka6rdGwvB4LV",
        "outputId": "edb69901-8e06-435b-e095-87cd1a7a08a4"
      },
      "execution_count": null,
      "outputs": [
        {
          "output_type": "stream",
          "name": "stdout",
          "text": [
            "['grocery1', 10, 20, 'grocery2', 3, 4, 'grocery3', 40]\n"
          ]
        }
      ]
    },
    {
      "cell_type": "code",
      "source": [
        "list.append('grocery4')"
      ],
      "metadata": {
        "id": "g9Qs7Aj6CMid"
      },
      "execution_count": null,
      "outputs": []
    },
    {
      "cell_type": "code",
      "source": [
        "print(list)"
      ],
      "metadata": {
        "colab": {
          "base_uri": "https://localhost:8080/"
        },
        "id": "b9H9AsKfC7wO",
        "outputId": "de303488-f768-4ae1-daee-57f22ee35ac0"
      },
      "execution_count": null,
      "outputs": [
        {
          "output_type": "stream",
          "name": "stdout",
          "text": [
            "['grocery1', 10, 20, 'grocery2', 3, 4, 'grocery3', 40, 'grocery4']\n"
          ]
        }
      ]
    },
    {
      "cell_type": "code",
      "source": [
        "list.remove(10)"
      ],
      "metadata": {
        "id": "rs2qtPLhDco9"
      },
      "execution_count": null,
      "outputs": []
    },
    {
      "cell_type": "code",
      "source": [
        "print(list)"
      ],
      "metadata": {
        "colab": {
          "base_uri": "https://localhost:8080/"
        },
        "id": "MidaaE6FEGKk",
        "outputId": "4f22727c-11df-480a-dfc7-c84892485640"
      },
      "execution_count": null,
      "outputs": [
        {
          "output_type": "stream",
          "name": "stdout",
          "text": [
            "['grocery1', 20, 'grocery2', 3, 4, 'grocery3', 40, 'grocery4']\n"
          ]
        }
      ]
    },
    {
      "cell_type": "markdown",
      "source": [
        "find index no"
      ],
      "metadata": {
        "id": "ijhpO6JdEsbf"
      }
    },
    {
      "cell_type": "code",
      "source": [
        "list[6]"
      ],
      "metadata": {
        "colab": {
          "base_uri": "https://localhost:8080/"
        },
        "id": "HAXTcDnGEPX0",
        "outputId": "2e45f08a-acdb-434e-e1d2-8a013d9b8c1e"
      },
      "execution_count": null,
      "outputs": [
        {
          "output_type": "execute_result",
          "data": {
            "text/plain": [
              "40"
            ]
          },
          "metadata": {},
          "execution_count": 21
        }
      ]
    },
    {
      "cell_type": "code",
      "source": [
        "list[3:6]"
      ],
      "metadata": {
        "colab": {
          "base_uri": "https://localhost:8080/"
        },
        "id": "wJiDumiOEzws",
        "outputId": "09c72f05-0c6a-40bd-dd84-79c233013b56"
      },
      "execution_count": null,
      "outputs": [
        {
          "output_type": "execute_result",
          "data": {
            "text/plain": [
              "[3, 4, 'grocery3']"
            ]
          },
          "metadata": {},
          "execution_count": 22
        }
      ]
    },
    {
      "cell_type": "markdown",
      "source": [
        "###Sorting the list"
      ],
      "metadata": {
        "id": "g2Ctt_3eFK0P"
      }
    },
    {
      "cell_type": "code",
      "source": [
        "lst1=[50,40,55,34,23,12]\n",
        "lst1.sort()\n"
      ],
      "metadata": {
        "id": "BfErA5i9FHCq"
      },
      "execution_count": null,
      "outputs": []
    },
    {
      "cell_type": "code",
      "source": [
        "lst1"
      ],
      "metadata": {
        "colab": {
          "base_uri": "https://localhost:8080/"
        },
        "id": "WE6JIuBWFrQS",
        "outputId": "338c4a91-2ae8-4ec5-9985-b79f5d2537e6"
      },
      "execution_count": null,
      "outputs": [
        {
          "output_type": "execute_result",
          "data": {
            "text/plain": [
              "[12, 23, 34, 40, 50, 55]"
            ]
          },
          "metadata": {},
          "execution_count": 28
        }
      ]
    },
    {
      "cell_type": "code",
      "source": [
        "len(lst1)"
      ],
      "metadata": {
        "colab": {
          "base_uri": "https://localhost:8080/"
        },
        "id": "R4jtEigtGF75",
        "outputId": "ad1db017-1f08-455e-a731-5eb914e185af"
      },
      "execution_count": null,
      "outputs": [
        {
          "output_type": "execute_result",
          "data": {
            "text/plain": [
              "6"
            ]
          },
          "metadata": {},
          "execution_count": 29
        }
      ]
    },
    {
      "cell_type": "code",
      "source": [
        "lst1[1:6]"
      ],
      "metadata": {
        "colab": {
          "base_uri": "https://localhost:8080/"
        },
        "id": "ZPoUvPhDGRkU",
        "outputId": "c72bfb6e-d8f6-45c2-d04d-10c01fa226b2"
      },
      "execution_count": null,
      "outputs": [
        {
          "output_type": "execute_result",
          "data": {
            "text/plain": [
              "[23, 34, 40, 50, 55]"
            ]
          },
          "metadata": {},
          "execution_count": 30
        }
      ]
    },
    {
      "cell_type": "markdown",
      "source": [
        "###Dictionary-\n",
        "keys, values , items ,popitems,delete"
      ],
      "metadata": {
        "id": "ghYUen2KGs-Q"
      }
    },
    {
      "cell_type": "code",
      "source": [
        "dictionary={'neha':10,'prakhar':20,'tomar':30}"
      ],
      "metadata": {
        "id": "4QLFYkHkGxmG"
      },
      "execution_count": null,
      "outputs": []
    },
    {
      "cell_type": "code",
      "source": [
        "dictionary.keys()"
      ],
      "metadata": {
        "colab": {
          "base_uri": "https://localhost:8080/"
        },
        "id": "wjBKGLLlHbBj",
        "outputId": "d4688d8e-26b4-4710-f947-3c2977034ab0"
      },
      "execution_count": null,
      "outputs": [
        {
          "output_type": "execute_result",
          "data": {
            "text/plain": [
              "dict_keys(['neha', 'prakhar', 'tomar'])"
            ]
          },
          "metadata": {},
          "execution_count": 37
        }
      ]
    },
    {
      "cell_type": "code",
      "source": [
        "dictionary.values()"
      ],
      "metadata": {
        "colab": {
          "base_uri": "https://localhost:8080/"
        },
        "id": "KMaYtk99Ho3W",
        "outputId": "80a3f1c6-e601-4ded-9dca-225647001391"
      },
      "execution_count": null,
      "outputs": [
        {
          "output_type": "execute_result",
          "data": {
            "text/plain": [
              "dict_values([10, 20, 30])"
            ]
          },
          "metadata": {},
          "execution_count": 38
        }
      ]
    },
    {
      "cell_type": "code",
      "source": [
        "dictionary.items()"
      ],
      "metadata": {
        "colab": {
          "base_uri": "https://localhost:8080/"
        },
        "id": "Lw7TQ74bHxU6",
        "outputId": "7e3b3c7f-743c-48c6-f9b5-267768071efb"
      },
      "execution_count": null,
      "outputs": [
        {
          "output_type": "execute_result",
          "data": {
            "text/plain": [
              "dict_items([('neha', 10), ('prakhar', 20), ('tomar', 30)])"
            ]
          },
          "metadata": {},
          "execution_count": 39
        }
      ]
    },
    {
      "cell_type": "code",
      "source": [
        "dictionary.popitem()"
      ],
      "metadata": {
        "colab": {
          "base_uri": "https://localhost:8080/"
        },
        "id": "mBGSYAW-IXCx",
        "outputId": "26afdf8f-7ad6-4ca5-f061-18df41ecabd4"
      },
      "execution_count": null,
      "outputs": [
        {
          "output_type": "execute_result",
          "data": {
            "text/plain": [
              "('tomar', 30)"
            ]
          },
          "metadata": {},
          "execution_count": 42
        }
      ]
    },
    {
      "cell_type": "code",
      "source": [
        "dictionary"
      ],
      "metadata": {
        "colab": {
          "base_uri": "https://localhost:8080/"
        },
        "id": "jTXvLadnIrUR",
        "outputId": "737bf769-c5fb-40d4-82bd-6f1ec0fc99e4"
      },
      "execution_count": null,
      "outputs": [
        {
          "output_type": "execute_result",
          "data": {
            "text/plain": [
              "{'neha': 10, 'prakhar': 20}"
            ]
          },
          "metadata": {},
          "execution_count": 44
        }
      ]
    },
    {
      "cell_type": "markdown",
      "source": [
        "###Control flow & Loop\n",
        "two type of control flow :-if condition, loop "
      ],
      "metadata": {
        "id": "r7OUBSi4MN4y"
      }
    },
    {
      "cell_type": "code",
      "source": [
        "per=50\n",
        "if per>=95:\n",
        "  print(\"first division\")\n",
        "elif per >=60:\n",
        " print(\"second division\")\n",
        "elif per>=45:\n",
        " print(\"third division\")\n",
        "elif per>=35:\n",
        " print(\"fourth division\")\n",
        "else:\n",
        "   print(\"fail\")"
      ],
      "metadata": {
        "colab": {
          "base_uri": "https://localhost:8080/"
        },
        "id": "O9b_K_ylM0Cz",
        "outputId": "fa25f2ca-f69e-402b-80cb-44aad16cb790"
      },
      "execution_count": null,
      "outputs": [
        {
          "output_type": "stream",
          "name": "stdout",
          "text": [
            "third division\n"
          ]
        }
      ]
    },
    {
      "cell_type": "code",
      "source": [
        "salary=int(input())\n",
        "commutation=int(input())\n",
        "incentive=int(input())\n",
        "if salary>=60000:\n",
        "  print(\"job changed successfull\")\n",
        "elif salary<55000  and commutation>8:\n",
        "  print(\"job changed successfull\")\n",
        "elif salary<45000  and commutation<8:\n",
        "  if incentive!=0:\n",
        "  print(\"job changed successfull\")\n",
        "else:\n",
        "  print(\"job not changed\")\n",
        "else:\n",
        "  print(\"job not changed\")"
      ],
      "metadata": {
        "colab": {
          "base_uri": "https://localhost:8080/",
          "height": 130
        },
        "id": "PrFGQPSoSElC",
        "outputId": "3a5f9a60-3018-4d1a-8b5f-9188753768b1"
      },
      "execution_count": null,
      "outputs": [
        {
          "output_type": "error",
          "ename": "IndentationError",
          "evalue": "ignored",
          "traceback": [
            "\u001b[0;36m  File \u001b[0;32m\"<ipython-input-66-e616aab0b57b>\"\u001b[0;36m, line \u001b[0;32m10\u001b[0m\n\u001b[0;31m    print(\"job changed successfull\")\u001b[0m\n\u001b[0m        ^\u001b[0m\n\u001b[0;31mIndentationError\u001b[0m\u001b[0;31m:\u001b[0m expected an indented block\n"
          ]
        }
      ]
    },
    {
      "cell_type": "markdown",
      "source": [
        "There are two type of loop : - while loop ,for loop"
      ],
      "metadata": {
        "id": "bZPm8w_XbWAG"
      }
    },
    {
      "cell_type": "code",
      "source": [
        "i=0;\n",
        "while i<=10:\n",
        "   print(i)\n",
        "   i=i+1"
      ],
      "metadata": {
        "colab": {
          "base_uri": "https://localhost:8080/"
        },
        "id": "3vPfS14NbrFw",
        "outputId": "d243b24f-da01-4ffb-b0c1-fd18ad016ee5"
      },
      "execution_count": null,
      "outputs": [
        {
          "output_type": "stream",
          "name": "stdout",
          "text": [
            "0\n",
            "1\n",
            "2\n",
            "3\n",
            "4\n",
            "5\n",
            "6\n",
            "7\n",
            "8\n",
            "9\n",
            "10\n"
          ]
        }
      ]
    },
    {
      "cell_type": "code",
      "source": [],
      "metadata": {
        "id": "GxUzMRtgbv3Z"
      },
      "execution_count": null,
      "outputs": []
    },
    {
      "cell_type": "code",
      "source": [
        "i=20;\n",
        "while i>0:\n",
        "     print(i)\n",
        "     i=i-1"
      ],
      "metadata": {
        "colab": {
          "base_uri": "https://localhost:8080/"
        },
        "id": "8kaAexz0cYBF",
        "outputId": "8c4944b5-08e0-4df1-85bc-8628c7f04bb9"
      },
      "execution_count": null,
      "outputs": [
        {
          "output_type": "stream",
          "name": "stdout",
          "text": [
            "20\n",
            "19\n",
            "18\n",
            "17\n",
            "16\n",
            "15\n",
            "14\n",
            "13\n",
            "12\n",
            "11\n",
            "10\n",
            "9\n",
            "8\n",
            "7\n",
            "6\n",
            "5\n",
            "4\n",
            "3\n",
            "2\n",
            "1\n"
          ]
        }
      ]
    },
    {
      "cell_type": "code",
      "source": [
        "for i in range (20):\n",
        "  print(i)"
      ],
      "metadata": {
        "colab": {
          "base_uri": "https://localhost:8080/"
        },
        "id": "o3r5PPRedQmE",
        "outputId": "e2944a1f-7788-4c18-ed49-0a46394f8b23"
      },
      "execution_count": null,
      "outputs": [
        {
          "output_type": "stream",
          "name": "stdout",
          "text": [
            "0\n",
            "1\n",
            "2\n",
            "3\n",
            "4\n",
            "5\n",
            "6\n",
            "7\n",
            "8\n",
            "9\n",
            "10\n",
            "11\n",
            "12\n",
            "13\n",
            "14\n",
            "15\n",
            "16\n",
            "17\n",
            "18\n",
            "19\n"
          ]
        }
      ]
    },
    {
      "cell_type": "code",
      "source": [
        "for i in range (5):\n",
        "  print(i)"
      ],
      "metadata": {
        "colab": {
          "base_uri": "https://localhost:8080/"
        },
        "id": "H4kUijIfdiKH",
        "outputId": "44ad1b1e-662f-4c03-c63b-4abeb2596476"
      },
      "execution_count": null,
      "outputs": [
        {
          "output_type": "stream",
          "name": "stdout",
          "text": [
            "0\n",
            "1\n",
            "2\n",
            "3\n",
            "4\n"
          ]
        }
      ]
    }
  ]
}